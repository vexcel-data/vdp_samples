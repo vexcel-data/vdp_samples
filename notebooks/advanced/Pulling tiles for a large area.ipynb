{
 "cells": [
  {
   "cell_type": "markdown",
   "id": "4d754ae0",
   "metadata": {},
   "source": [
    "The purpose of this notebook is to demonstrate how to obtain Ortho, DSM and DTM tiles from the API in cases where the ExtractOrthoImages tile isn't appropriate e.g if more than 135 tiles will be required. The notebook does the following:\n",
    "- Takes a polygon for an AOI geometry\n",
    "- Determines the tile coordinates for covering that polygon\n",
    "- Downloads each of the tiles for those coordinates\n",
    "- Georeferences each PNG tile into a TIF\n",
    "- creates a mosaic from the set of tiles"
   ]
  },
  {
   "cell_type": "markdown",
   "id": "ca1cc94a",
   "metadata": {},
   "source": [
    "## Step 0: set up"
   ]
  },
  {
   "cell_type": "code",
   "execution_count": 1,
   "id": "5d2af2c3",
   "metadata": {},
   "outputs": [],
   "source": [
    "import requests\n",
    "import os"
   ]
  },
  {
   "cell_type": "code",
   "execution_count": 2,
   "id": "7d74e2a3",
   "metadata": {},
   "outputs": [
    {
     "ename": "FileNotFoundError",
     "evalue": "[Errno 2] No such file or directory: 'credentials.json'",
     "output_type": "error",
     "traceback": [
      "\u001b[0;31m---------------------------------------------------------------------------\u001b[0m",
      "\u001b[0;31mFileNotFoundError\u001b[0m                         Traceback (most recent call last)",
      "\u001b[0;32m/var/folders/fr/t5wq_ry96xqgnh_10867_pbh0000gn/T/ipykernel_94320/444340156.py\u001b[0m in \u001b[0;36m<module>\u001b[0;34m\u001b[0m\n\u001b[0;32m----> 1\u001b[0;31m \u001b[0;32mfrom\u001b[0m \u001b[0mvdp_python_tools\u001b[0m\u001b[0;34m.\u001b[0m\u001b[0mget_images\u001b[0m \u001b[0;32mimport\u001b[0m \u001b[0mtiles_in_polygon\u001b[0m\u001b[0;34m,\u001b[0m \u001b[0mgeoreference_raster_tile\u001b[0m\u001b[0;34m\u001b[0m\u001b[0;34m\u001b[0m\u001b[0m\n\u001b[0m\u001b[1;32m      2\u001b[0m \u001b[0;32mfrom\u001b[0m \u001b[0mvdp_python_tools\u001b[0m\u001b[0;34m.\u001b[0m\u001b[0mauthentication\u001b[0m \u001b[0;32mimport\u001b[0m \u001b[0mlogin\u001b[0m\u001b[0;34m\u001b[0m\u001b[0;34m\u001b[0m\u001b[0m\n\u001b[1;32m      3\u001b[0m \u001b[0;32mfrom\u001b[0m \u001b[0mvdp_python_tools\u001b[0m\u001b[0;34m.\u001b[0m\u001b[0mcoverage_api_utilities\u001b[0m \u001b[0;32mimport\u001b[0m \u001b[0mcreate_coverage_dataframe\u001b[0m\u001b[0;34m\u001b[0m\u001b[0;34m\u001b[0m\u001b[0m\n\u001b[1;32m      4\u001b[0m \u001b[0;34m\u001b[0m\u001b[0m\n\u001b[1;32m      5\u001b[0m \u001b[0;34m\u001b[0m\u001b[0m\n",
      "\u001b[0;32m~/miniconda3/envs/vdp_tool_new/lib/python3.9/site-packages/vdp_python_tools/get_images.py\u001b[0m in \u001b[0;36m<module>\u001b[0;34m\u001b[0m\n\u001b[1;32m     19\u001b[0m \u001b[0;32mfrom\u001b[0m \u001b[0mvdp_python_tools\u001b[0m\u001b[0;34m.\u001b[0m\u001b[0mauthentication\u001b[0m \u001b[0;32mimport\u001b[0m \u001b[0mlogin\u001b[0m\u001b[0;34m\u001b[0m\u001b[0;34m\u001b[0m\u001b[0m\n\u001b[1;32m     20\u001b[0m \u001b[0;34m\u001b[0m\u001b[0m\n\u001b[0;32m---> 21\u001b[0;31m \u001b[0mtoken\u001b[0m \u001b[0;34m=\u001b[0m \u001b[0mlogin\u001b[0m\u001b[0;34m(\u001b[0m\u001b[0;34m)\u001b[0m\u001b[0;34m\u001b[0m\u001b[0;34m\u001b[0m\u001b[0m\n\u001b[0m\u001b[1;32m     22\u001b[0m \u001b[0;34m\u001b[0m\u001b[0m\n\u001b[1;32m     23\u001b[0m \u001b[0;34m\u001b[0m\u001b[0m\n",
      "\u001b[0;32m~/miniconda3/envs/vdp_tool_new/lib/python3.9/site-packages/vdp_python_tools/authentication.py\u001b[0m in \u001b[0;36mlogin\u001b[0;34m(credentials)\u001b[0m\n\u001b[1;32m      4\u001b[0m \u001b[0;32mdef\u001b[0m \u001b[0mlogin\u001b[0m\u001b[0;34m(\u001b[0m\u001b[0mcredentials\u001b[0m\u001b[0;34m=\u001b[0m\u001b[0;32mNone\u001b[0m\u001b[0;34m)\u001b[0m\u001b[0;34m:\u001b[0m\u001b[0;34m\u001b[0m\u001b[0;34m\u001b[0m\u001b[0m\n\u001b[1;32m      5\u001b[0m     \u001b[0;32mif\u001b[0m \u001b[0mcredentials\u001b[0m \u001b[0;32mis\u001b[0m \u001b[0;32mNone\u001b[0m\u001b[0;34m:\u001b[0m\u001b[0;34m\u001b[0m\u001b[0;34m\u001b[0m\u001b[0m\n\u001b[0;32m----> 6\u001b[0;31m         \u001b[0;32mwith\u001b[0m \u001b[0mopen\u001b[0m\u001b[0;34m(\u001b[0m\u001b[0;34m\"credentials.json\"\u001b[0m\u001b[0;34m)\u001b[0m \u001b[0;32mas\u001b[0m \u001b[0mfp\u001b[0m\u001b[0;34m:\u001b[0m\u001b[0;34m\u001b[0m\u001b[0;34m\u001b[0m\u001b[0m\n\u001b[0m\u001b[1;32m      7\u001b[0m             \u001b[0mcredentials\u001b[0m \u001b[0;34m=\u001b[0m \u001b[0mjson\u001b[0m\u001b[0;34m.\u001b[0m\u001b[0mload\u001b[0m\u001b[0;34m(\u001b[0m\u001b[0mfp\u001b[0m\u001b[0;34m)\u001b[0m \u001b[0;31m# {'password': 'hopefullyabetterpasswordthanthis', 'username': 'email@address.com'}\u001b[0m\u001b[0;34m\u001b[0m\u001b[0;34m\u001b[0m\u001b[0m\n\u001b[1;32m      8\u001b[0m \u001b[0;34m\u001b[0m\u001b[0m\n",
      "\u001b[0;31mFileNotFoundError\u001b[0m: [Errno 2] No such file or directory: 'credentials.json'"
     ]
    }
   ],
   "source": [
    "from vdp_python_tools.get_images import tiles_in_polygon, georeference_raster_tile\n",
    "from vdp_python_tools.authentication import login\n",
    "from vdp_python_tools.coverage_api_utilities import create_coverage_dataframe\n",
    "\n",
    "\n",
    "token = login()"
   ]
  },
  {
   "cell_type": "markdown",
   "id": "87cd0555",
   "metadata": {},
   "source": [
    "## Step 1: "
   ]
  },
  {
   "cell_type": "code",
   "execution_count": null,
   "id": "18195480",
   "metadata": {},
   "outputs": [],
   "source": [
    "import geopandas as gpd\n",
    "\n",
    "gdf_aoi = gpd.read_file(\"./data/sample/example_boundary.shp\")\n",
    "aoi_geometry = gdf_aoi.iloc[0].geometry\n",
    "aoi_geometry"
   ]
  },
  {
   "cell_type": "markdown",
   "id": "ccfa4d0e",
   "metadata": {},
   "source": [
    "It's always a good idea to check the coverage before downloading, so do that next."
   ]
  },
  {
   "cell_type": "code",
   "execution_count": null,
   "id": "8a19406a",
   "metadata": {},
   "outputs": [],
   "source": [
    "gdf_coverage = create_coverage_dataframe(wkt=aoi_geometry.wkt)\n",
    "gdf_coverage.head()"
   ]
  },
  {
   "cell_type": "code",
   "execution_count": null,
   "id": "e86a3532",
   "metadata": {},
   "outputs": [],
   "source": [
    "tile_coords = tiles_in_polygon(aoi_geometry, 17)\n",
    "tile_coords"
   ]
  },
  {
   "cell_type": "code",
   "execution_count": null,
   "id": "53ff4e18",
   "metadata": {},
   "outputs": [],
   "source": [
    "import shutil \n",
    "\n",
    "format_type = \"png\"\n",
    "api = \"GetOrthoImageTile/bluesky-high-europe\"\n",
    "image_type = \"ortho-high-area\"\n",
    "output_folder = \"./data/tmp/\"\n",
    "\n",
    "rasters_to_merge = []\n",
    "for x, y, zoom in tile_coords:\n",
    "    url = f\"https://api.vexcelgroup.com/images/{api}/{zoom}/{x}/{y}?token={token}\"\n",
    "    if format_type != \"tif\":\n",
    "        url += f\"&format={format_type}\"\n",
    "    response = requests.get(url, stream = True)\n",
    "    if response.reason != \"OK\":\n",
    "        raise Exception(f\"API failed to get tile from api {api} at x={x} y={y} zoom={zoom} see url below \\n {url}\")\n",
    "    filepath = os.path.join(output_folder, f\"{image_type}_img_{zoom}_{x}_{y}.{format_type}\")\n",
    "    with open(filepath, 'wb') as out_file:\n",
    "        shutil.copyfileobj(response.raw, out_file)\n",
    "\n",
    "    if image_type in [\"ortho-urban-area\", \"ortho-high-area\"]: # then the tiles aren't georeferenced...yet\n",
    "        filepath_translated_tile = georeference_raster_tile(x, y, zoom, filepath)\n",
    "        print(filepath_translated_tile)\n",
    "        os.remove(filepath)\n",
    "        rasters_to_merge.append(filepath_translated_tile)\n",
    "    else: \n",
    "        rasters_to_merge.append(filepath)\n",
    "    \n",
    "print(f\"...finished downloading data\")"
   ]
  },
  {
   "cell_type": "code",
   "execution_count": null,
   "id": "7615a2fe",
   "metadata": {},
   "outputs": [],
   "source": [
    "import rasterio\n",
    "from rasterio.merge import merge\n",
    "from pyproj import CRS\n",
    "\n",
    "src_files_to_mosaic = []\n",
    "for filepath in rasters_to_merge:\n",
    "    src = rasterio.open(filepath)\n",
    "    src_files_to_mosaic.append(src)\n",
    "\n",
    "mosaic, out_trans = merge(src_files_to_mosaic)\n",
    "\n",
    "crs = CRS.from_epsg(4326)\n",
    "out_meta = src.meta.copy()\n",
    "\n",
    "# Update the metadata\n",
    "out_meta.update({\"driver\": \"GTiff\",\n",
    "\"height\": mosaic.shape[1],\n",
    "\"width\": mosaic.shape[2],\n",
    "\"transform\": out_trans,\n",
    "\"crs\": crs.to_string(), \n",
    "})\n",
    "\n",
    "filepath_mosaic = f\"{output_folder}/mosaic.tif\"\n",
    "\n",
    "with rasterio.open(filepath_mosaic, \"w\", **out_meta) as dest:\n",
    "    dest.write(mosaic)\n",
    "print(\"...done\")"
   ]
  },
  {
   "cell_type": "code",
   "execution_count": null,
   "id": "09e58d99",
   "metadata": {},
   "outputs": [],
   "source": []
  }
 ],
 "metadata": {
  "kernelspec": {
   "display_name": "Python 3 (ipykernel)",
   "language": "python",
   "name": "python3"
  },
  "language_info": {
   "codemirror_mode": {
    "name": "ipython",
    "version": 3
   },
   "file_extension": ".py",
   "mimetype": "text/x-python",
   "name": "python",
   "nbconvert_exporter": "python",
   "pygments_lexer": "ipython3",
   "version": "3.9.7"
  }
 },
 "nbformat": 4,
 "nbformat_minor": 5
}
