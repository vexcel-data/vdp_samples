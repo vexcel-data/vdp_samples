{
 "cells": [
  {
   "cell_type": "markdown",
   "id": "4d754ae0",
   "metadata": {},
   "source": [
    "The purpose of this notebook is to demonstrate how to obtain Ortho, DSM and DTM tiles from the API in cases where the ExtractOrthoImages tile isn't appropriate e.g if more than 135 tiles will be required. The notebook does the following:\n",
    "- Takes a polygon for an AOI geometry\n",
    "- Determines the tile coordinates for covering that polygon\n",
    "- Downloads each of the tiles for those coordinates\n",
    "- Georeferences each PNG tile into a TIF\n",
    "- Creates a mosaic from the set of tiles"
   ]
  },
  {
   "cell_type": "markdown",
   "id": "ca1cc94a",
   "metadata": {},
   "source": [
    "## Step 0: set up"
   ]
  },
  {
   "cell_type": "code",
   "execution_count": 1,
   "id": "5d2af2c3",
   "metadata": {},
   "outputs": [],
   "source": [
    "import requests\n",
    "import os"
   ]
  },
  {
   "cell_type": "code",
   "execution_count": 2,
   "id": "7d74e2a3",
   "metadata": {},
   "outputs": [],
   "source": [
    "from vdp_python_tools.get_images import tiles_in_polygon, georeference_raster_tile\n",
    "from vdp_python_tools.authentication import login\n",
    "from vdp_python_tools.coverage_api_utilities import create_coverage_dataframe\n",
    "\n",
    "\n",
    "token = login()"
   ]
  },
  {
   "cell_type": "markdown",
   "id": "87cd0555",
   "metadata": {},
   "source": [
    "## Step 1: "
   ]
  },
  {
   "cell_type": "code",
   "execution_count": 4,
   "id": "18195480",
   "metadata": {},
   "outputs": [
    {
     "data": {
      "image/svg+xml": [
       "<svg xmlns=\"http://www.w3.org/2000/svg\" xmlns:xlink=\"http://www.w3.org/1999/xlink\" width=\"100.0\" height=\"100.0\" viewBox=\"8.889189695411122 48.695494644929035 0.0066156336697087426 0.018764245323509954\" preserveAspectRatio=\"xMinYMin meet\"><g transform=\"matrix(1,0,0,-1,0,97.40975353518158)\"><path fill-rule=\"evenodd\" fill=\"#66cc99\" stroke=\"#555555\" stroke-width=\"0.00037528490647019907\" opacity=\"0.6\" d=\"M 8.88988466746014,48.7128492939886 L 8.895110357031813,48.713563918203526 L 8.89448506084375,48.69618961697805 L 8.889929331473574,48.696502265072084 L 8.88988466746014,48.7128492939886 z\" /></g></svg>"
      ],
      "text/plain": [
       "<shapely.geometry.polygon.Polygon at 0x7f951680c210>"
      ]
     },
     "execution_count": 4,
     "metadata": {},
     "output_type": "execute_result"
    }
   ],
   "source": [
    "import geopandas as gpd\n",
    "\n",
    "gdf_aoi = gpd.read_file(\"../data/sample/example_boundary.shp\")\n",
    "aoi_geometry = gdf_aoi.iloc[0].geometry\n",
    "aoi_geometry"
   ]
  },
  {
   "cell_type": "markdown",
   "id": "ccfa4d0e",
   "metadata": {},
   "source": [
    "It's always a good idea to check the coverage before downloading, so do that next."
   ]
  },
  {
   "cell_type": "code",
   "execution_count": 5,
   "id": "8a19406a",
   "metadata": {},
   "outputs": [
    {
     "data": {
      "text/html": [
       "<div>\n",
       "<style scoped>\n",
       "    .dataframe tbody tr th:only-of-type {\n",
       "        vertical-align: middle;\n",
       "    }\n",
       "\n",
       "    .dataframe tbody tr th {\n",
       "        vertical-align: top;\n",
       "    }\n",
       "\n",
       "    .dataframe thead th {\n",
       "        text-align: right;\n",
       "    }\n",
       "</style>\n",
       "<table border=\"1\" class=\"dataframe\">\n",
       "  <thead>\n",
       "    <tr style=\"text-align: right;\">\n",
       "      <th></th>\n",
       "      <th>geometry</th>\n",
       "      <th>Name</th>\n",
       "      <th>Coverage Type</th>\n",
       "      <th>Min GSD</th>\n",
       "      <th>Max GSD</th>\n",
       "      <th>Min Date</th>\n",
       "      <th>Max Date</th>\n",
       "      <th>Max Zoom</th>\n",
       "      <th>Z Index</th>\n",
       "      <th>Camera Technology</th>\n",
       "      <th>layer</th>\n",
       "    </tr>\n",
       "  </thead>\n",
       "  <tbody>\n",
       "    <tr>\n",
       "      <th>0</th>\n",
       "      <td>MULTIPOLYGON (((8.89120 48.68340, 8.89150 48.6...</td>\n",
       "      <td>de-bw-stuttgart-2020</td>\n",
       "      <td>dxm-ortho</td>\n",
       "      <td>0.061599</td>\n",
       "      <td>0.078231</td>\n",
       "      <td>2020-07-12 06:58:57</td>\n",
       "      <td>2020-07-31 07:12:55</td>\n",
       "      <td>21</td>\n",
       "      <td>50</td>\n",
       "      <td></td>\n",
       "      <td>bluesky-ultra-europe</td>\n",
       "    </tr>\n",
       "    <tr>\n",
       "      <th>1</th>\n",
       "      <td>MULTIPOLYGON (((8.52670 47.97950, 8.31230 47.9...</td>\n",
       "      <td>n48e9-de-bw-gaggenau-2020</td>\n",
       "      <td>final-ortho</td>\n",
       "      <td>0.151560</td>\n",
       "      <td>0.196013</td>\n",
       "      <td>2020-04-15 07:49:18</td>\n",
       "      <td>2020-04-15 02:37:13</td>\n",
       "      <td>20</td>\n",
       "      <td>0</td>\n",
       "      <td>None</td>\n",
       "      <td>bluesky-high-europe</td>\n",
       "    </tr>\n",
       "  </tbody>\n",
       "</table>\n",
       "</div>"
      ],
      "text/plain": [
       "                                            geometry  \\\n",
       "0  MULTIPOLYGON (((8.89120 48.68340, 8.89150 48.6...   \n",
       "1  MULTIPOLYGON (((8.52670 47.97950, 8.31230 47.9...   \n",
       "\n",
       "                        Name Coverage Type   Min GSD   Max GSD  \\\n",
       "0       de-bw-stuttgart-2020     dxm-ortho  0.061599  0.078231   \n",
       "1  n48e9-de-bw-gaggenau-2020   final-ortho  0.151560  0.196013   \n",
       "\n",
       "              Min Date             Max Date  Max Zoom  Z Index  \\\n",
       "0  2020-07-12 06:58:57  2020-07-31 07:12:55        21       50   \n",
       "1  2020-04-15 07:49:18  2020-04-15 02:37:13        20        0   \n",
       "\n",
       "  Camera Technology                 layer  \n",
       "0                    bluesky-ultra-europe  \n",
       "1              None   bluesky-high-europe  "
      ]
     },
     "execution_count": 5,
     "metadata": {},
     "output_type": "execute_result"
    }
   ],
   "source": [
    "gdf_coverage = create_coverage_dataframe(wkt=aoi_geometry.wkt)\n",
    "gdf_coverage.head()"
   ]
  },
  {
   "cell_type": "markdown",
   "id": "d4f1b7fc",
   "metadata": {},
   "source": [
    "The function below does the following:\n",
    "    - creates a bounding box around the `aoi_geometry`\n",
    "    - calculates the tiles within that bounding box\n",
    "    - creates a geometry for each tile\n",
    "    - adds that tile to a list if that tile intersects the `aoi_geometry`\n",
    "    - returns the list\n",
    "    \n",
    "If you set `output_format` to \"GeoDaa"
   ]
  },
  {
   "cell_type": "code",
   "execution_count": 6,
   "id": "e86a3532",
   "metadata": {},
   "outputs": [
    {
     "data": {
      "text/plain": [
       "[(68772, 45171, 17),\n",
       " (68772, 45172, 17),\n",
       " (68772, 45173, 17),\n",
       " (68772, 45174, 17),\n",
       " (68772, 45175, 17),\n",
       " (68772, 45176, 17),\n",
       " (68772, 45177, 17),\n",
       " (68772, 45178, 17),\n",
       " (68772, 45179, 17),\n",
       " (68772, 45180, 17),\n",
       " (68773, 45171, 17),\n",
       " (68773, 45172, 17),\n",
       " (68773, 45173, 17),\n",
       " (68773, 45174, 17),\n",
       " (68773, 45175, 17),\n",
       " (68773, 45176, 17),\n",
       " (68773, 45177, 17),\n",
       " (68773, 45178, 17),\n",
       " (68773, 45179, 17),\n",
       " (68773, 45180, 17)]"
      ]
     },
     "execution_count": 6,
     "metadata": {},
     "output_type": "execute_result"
    }
   ],
   "source": [
    "tile_coords = tiles_in_polygon(aoi_geometry, 17)\n",
    "tile_coords"
   ]
  },
  {
   "cell_type": "code",
   "execution_count": 7,
   "id": "53ff4e18",
   "metadata": {},
   "outputs": [
    {
     "name": "stdout",
     "output_type": "stream",
     "text": [
      "./data/tmp/ortho-high-area_img_17_68772_45171.tif\n",
      "./data/tmp/ortho-high-area_img_17_68772_45172.tif\n",
      "./data/tmp/ortho-high-area_img_17_68772_45173.tif\n",
      "./data/tmp/ortho-high-area_img_17_68772_45174.tif\n",
      "./data/tmp/ortho-high-area_img_17_68772_45175.tif\n",
      "./data/tmp/ortho-high-area_img_17_68772_45176.tif\n",
      "./data/tmp/ortho-high-area_img_17_68772_45177.tif\n",
      "./data/tmp/ortho-high-area_img_17_68772_45178.tif\n",
      "./data/tmp/ortho-high-area_img_17_68772_45179.tif\n",
      "./data/tmp/ortho-high-area_img_17_68772_45180.tif\n",
      "./data/tmp/ortho-high-area_img_17_68773_45171.tif\n",
      "./data/tmp/ortho-high-area_img_17_68773_45172.tif\n",
      "./data/tmp/ortho-high-area_img_17_68773_45173.tif\n",
      "./data/tmp/ortho-high-area_img_17_68773_45174.tif\n",
      "./data/tmp/ortho-high-area_img_17_68773_45175.tif\n",
      "./data/tmp/ortho-high-area_img_17_68773_45176.tif\n",
      "./data/tmp/ortho-high-area_img_17_68773_45177.tif\n",
      "./data/tmp/ortho-high-area_img_17_68773_45178.tif\n",
      "./data/tmp/ortho-high-area_img_17_68773_45179.tif\n",
      "./data/tmp/ortho-high-area_img_17_68773_45180.tif\n",
      "...finished downloading data\n"
     ]
    }
   ],
   "source": [
    "import shutil \n",
    "\n",
    "format_type = \"png\"\n",
    "api = \"GetOrthoImageTile/bluesky-high-europe\"\n",
    "image_type = \"ortho-high-area\"\n",
    "output_folder = \"./data/tmp/\"\n",
    "\n",
    "rasters_to_merge = []\n",
    "for x, y, zoom in tile_coords:\n",
    "    url = f\"https://api.vexcelgroup.com/images/{api}/{zoom}/{x}/{y}?token={token}\"\n",
    "    if format_type != \"tif\":\n",
    "        url += f\"&format={format_type}\"\n",
    "    response = requests.get(url, stream = True)\n",
    "    if response.reason != \"OK\":\n",
    "        raise Exception(f\"API failed to get tile from api {api} at x={x} y={y} zoom={zoom} see url below \\n {url}\")\n",
    "    filepath = os.path.join(output_folder, f\"{image_type}_img_{zoom}_{x}_{y}.{format_type}\")\n",
    "    with open(filepath, 'wb') as out_file:\n",
    "        shutil.copyfileobj(response.raw, out_file)\n",
    "\n",
    "    if image_type in [\"ortho-urban-area\", \"ortho-high-area\"]: # then the tiles aren't georeferenced...yet\n",
    "        filepath_translated_tile = georeference_raster_tile(x, y, zoom, filepath)\n",
    "        print(filepath_translated_tile)\n",
    "        os.remove(filepath)\n",
    "        rasters_to_merge.append(filepath_translated_tile)\n",
    "    else: \n",
    "        rasters_to_merge.append(filepath)\n",
    "    \n",
    "print(f\"...finished downloading data\")"
   ]
  },
  {
   "cell_type": "code",
   "execution_count": 8,
   "id": "7615a2fe",
   "metadata": {},
   "outputs": [
    {
     "name": "stdout",
     "output_type": "stream",
     "text": [
      "...done\n"
     ]
    }
   ],
   "source": [
    "import rasterio\n",
    "from rasterio.merge import merge\n",
    "from pyproj import CRS\n",
    "\n",
    "src_files_to_mosaic = []\n",
    "for filepath in rasters_to_merge:\n",
    "    src = rasterio.open(filepath)\n",
    "    src_files_to_mosaic.append(src)\n",
    "\n",
    "mosaic, out_trans = merge(src_files_to_mosaic)\n",
    "\n",
    "crs = CRS.from_epsg(4326)\n",
    "out_meta = src.meta.copy()\n",
    "\n",
    "# Update the metadata\n",
    "out_meta.update({\"driver\": \"GTiff\",\n",
    "\"height\": mosaic.shape[1],\n",
    "\"width\": mosaic.shape[2],\n",
    "\"transform\": out_trans,\n",
    "\"crs\": crs.to_string(), \n",
    "})\n",
    "\n",
    "filepath_mosaic = f\"{output_folder}/mosaic.tif\"\n",
    "\n",
    "with rasterio.open(filepath_mosaic, \"w\", **out_meta) as dest:\n",
    "    dest.write(mosaic)\n",
    "print(\"...done\")"
   ]
  },
  {
   "cell_type": "code",
   "execution_count": null,
   "id": "09e58d99",
   "metadata": {},
   "outputs": [],
   "source": []
  }
 ],
 "metadata": {
  "kernelspec": {
   "display_name": "Python 3 (ipykernel)",
   "language": "python",
   "name": "python3"
  },
  "language_info": {
   "codemirror_mode": {
    "name": "ipython",
    "version": 3
   },
   "file_extension": ".py",
   "mimetype": "text/x-python",
   "name": "python",
   "nbconvert_exporter": "python",
   "pygments_lexer": "ipython3",
   "version": "3.7.12"
  }
 },
 "nbformat": 4,
 "nbformat_minor": 5
}
