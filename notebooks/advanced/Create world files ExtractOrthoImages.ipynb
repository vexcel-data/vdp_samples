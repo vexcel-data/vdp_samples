{
 "cells": [
  {
   "cell_type": "markdown",
   "metadata": {},
   "source": [
    "This notebook walks through how to create world files for images pulled by WKT using the ExtractOrthoImage API call. It will generate world files for each of the Polygons in a WKT txt file.\n",
    "\n",
    "We will be using mostly universal libraries to do this so it can easily be converted to additional languages. The only exception is the Pillow library that we will use to get the image file's width and height.\n",
    "\n",
    "First we set up a function that will be used lated to determine the pixel width and height of each image in degrees."
   ]
  },
  {
   "cell_type": "code",
   "execution_count": 10,
   "metadata": {},
   "outputs": [],
   "source": [
    "import requests\n",
    "import json\n",
    "import urllib.request\n",
    "import re\n",
    "from PIL import Image\n",
    "\n",
    "def degrees_per_pixel(bounds, pixels_wide, pixels_high):\n",
    "    width_in_deg = bounds[2] - bounds[0]\n",
    "    height_in_deg = bounds[3] - bounds[1]\n",
    "\n",
    "    deg_per_pixel_wide = width_in_deg/pixels_wide\n",
    "    deg_per_pixel_high = height_in_deg/pixels_high\n",
    "    return deg_per_pixel_wide, deg_per_pixel_high"
   ]
  },
  {
   "cell_type": "markdown",
   "metadata": {},
   "source": [
    "Generate a token for use with the API call to get the ortho images"
   ]
  },
  {
   "cell_type": "code",
   "execution_count": 11,
   "metadata": {},
   "outputs": [],
   "source": [
    "with open(\"credentials.json\") as fp:\n",
    "    credentials = json.load(fp) # {'password': 'yourpasswordhere', 'username': 'email@address.com'}\n",
    "    \n",
    "r = requests.post(\"https://api.gic.org/auth/Login/\", data=credentials)\n",
    "token = r.json()['token']"
   ]
  },
  {
   "cell_type": "markdown",
   "metadata": {},
   "source": [
    "Use the ExtractOrthoImages API call to retrieve ortho images based on WKTs for your AOIs. \n",
    "\n",
    "After the images are downloaded, open them up and store the width and height of each for use later."
   ]
  },
  {
   "cell_type": "code",
   "execution_count": 12,
   "metadata": {},
   "outputs": [],
   "source": [
    "extractOrthoURL = \"https://api.gic.org/images/ExtractOrthoImages\"\n",
    "\n",
    "layer = \"bluesky-ultra\"\n",
    "wkts = []\n",
    "readWKT = open(\"wkt.txt\",\"r\")\n",
    "imageWidths = []\n",
    "imageHeights = []\n",
    "\n",
    "for iterate,line in enumerate(readWKT):\n",
    "    stripped = line.strip()\n",
    "    start_url = extractOrthoURL+\"?layer=\"+layer+\"&epsg=4326&wkt=\"+stripped+\"&AuthToken=\"+token\n",
    "    url = start_url.replace(\" \",\"%20\")\n",
    "    urllib.request.urlretrieve(url, \"Image\"+str(iterate)+\".jpg\")\n",
    "    wkts.append(stripped)\n",
    "    #Grab the image width and height of the file after downloading and store for use\n",
    "    image = Image.open(\"Image\"+str(iterate)+\".jpg\")\n",
    "    imageWidths.append(image.size[0])\n",
    "    imageHeights.append(image.size[1])"
   ]
  },
  {
   "cell_type": "markdown",
   "metadata": {},
   "source": [
    "Strip the WKTs down to just latitude and longitude combinations. We will use these to determine the bounding box of the image that is downloaded using ExtractOrthoImages."
   ]
  },
  {
   "cell_type": "code",
   "execution_count": 13,
   "metadata": {},
   "outputs": [],
   "source": [
    "wktValue = []\n",
    "\n",
    "for wkt in wkts:\n",
    "    adjustment = wkt.replace(\"POLYGON((\", \"\")\n",
    "    stripped = adjustment.replace(\"))\",\"\")\n",
    "    values = re.split(\"\\s|,\", stripped)\n",
    "    wktValue.append(values)"
   ]
  },
  {
   "cell_type": "markdown",
   "metadata": {},
   "source": [
    "Iterate through each of the latitude and longitudes to determine the maximum and minimum of each WKT. \n",
    "\n",
    "**In this notebook since the loop is broken into multiple cell for explanatory purposes, this will only run the first iteration. If you skip over these you can run the full loop in the cell in the end."
   ]
  },
  {
   "cell_type": "code",
   "execution_count": 14,
   "metadata": {},
   "outputs": [],
   "source": [
    "tempMinLat = 0.0\n",
    "tempMinLong = 0.0\n",
    "tempMaxLat = 0.0\n",
    "tempMaxLong = 0.0\n",
    "counter = 0\n",
    "\n",
    "for each in wktValue:\n",
    "    tempMinLong = float(each[0])\n",
    "    tempMinLat = float(each[1])\n",
    "    tempMaxLong = float(each[0])\n",
    "    tempMaxLat = float(each[1])\n",
    "    for i in range(0, len(each), 2):\n",
    "        if float(each[i]) < tempMinLong:\n",
    "            tempMinLong = float(each[i])\n",
    "        if float(each[i]) > tempMaxLong:\n",
    "            tempMaxLong = float(each[i])\n",
    "    for i in range(1,len(each), 2):\n",
    "        if float(each[i]) < tempMinLat:\n",
    "            tempMinLat = float(each[i])\n",
    "        if float(each[i]) > tempMaxLat:\n",
    "            tempMaxLat = float(each[i])"
   ]
  },
  {
   "cell_type": "markdown",
   "metadata": {},
   "source": [
    "Store the bounds to be used with the function to determine the degrees per pixel of the width and height.\n",
    "\n",
    "The southwest corner is the minimum latitude and minimum longitude.\n",
    "\n",
    "The northeast corner is the maximum latitude and maximum longitude."
   ]
  },
  {
   "cell_type": "code",
   "execution_count": 15,
   "metadata": {},
   "outputs": [],
   "source": [
    "    sw = float(tempMinLong), float(tempMinLat)\n",
    "    ne = float(tempMaxLong), float(tempMaxLat)\n",
    "\n",
    "    bounds = [*sw, *ne]"
   ]
  },
  {
   "cell_type": "markdown",
   "metadata": {},
   "source": [
    "Use the function to determine and store the pixel width and height in degrees"
   ]
  },
  {
   "cell_type": "code",
   "execution_count": 16,
   "metadata": {},
   "outputs": [],
   "source": [
    "    pixWidth, pixHeight = degrees_per_pixel(bounds, imageWidths[counter], imageHeights[counter])"
   ]
  },
  {
   "cell_type": "markdown",
   "metadata": {},
   "source": [
    "Get the coordinates of the top left pixel for the world file. The top left corner is the maximum latitude and minimum longitude.\n",
    "\n",
    "Also format the width and height per pixel for use with the world file."
   ]
  },
  {
   "cell_type": "code",
   "execution_count": 17,
   "metadata": {},
   "outputs": [],
   "source": [
    "    topLeftX = tempMaxLat\n",
    "    topLeftY = tempMinLong\n",
    "\n",
    "    pixw = f\"{pixWidth:.12f}\"\n",
    "    pixh = f\"{pixHeight:.12f}\""
   ]
  },
  {
   "cell_type": "markdown",
   "metadata": {},
   "source": [
    "Open a file to create the JPW or JGW that fits the image and write the contents to the file.\n",
    "\n",
    "The first line is the width per pixel in degrees.\n",
    "\n",
    "The second and third line are rotation along the y-axis and x-axis - While using NADIR these will likely always be 0.\n",
    "\n",
    "The fourth line is the height per pixel in degrees.\n",
    "\n",
    "The fifth line is the Y coordinate of the top left pixel.\n",
    "\n",
    "The sixth line is the X coordinate of the top left pixel."
   ]
  },
  {
   "cell_type": "code",
   "execution_count": 18,
   "metadata": {},
   "outputs": [],
   "source": [
    "    f = open(\"Image\"+str(counter)+\".jgw\", \"w\")\n",
    "    f.write(pixw+\"\\n\")\n",
    "    f.write(\"0\\n\")\n",
    "    f.write(\"0\\n\")\n",
    "    f.write(\"-\"+pixh+\"\\n\")\n",
    "    f.write(str(topLeftY)+\"\\n\")\n",
    "    f.write(str(topLeftX)+\"\\n\")\n",
    "\n",
    "    f.close()\n",
    "\n",
    "    counter += 1"
   ]
  },
  {
   "cell_type": "markdown",
   "metadata": {},
   "source": [
    "**This is the cell that contains the full loop to run if you want to run multiple iterations"
   ]
  },
  {
   "cell_type": "code",
   "execution_count": null,
   "metadata": {},
   "outputs": [],
   "source": [
    "tempMinLat = 0.0\n",
    "tempMinLong = 0.0\n",
    "tempMaxLat = 0.0\n",
    "tempMaxLong = 0.0\n",
    "counter = 0\n",
    "\n",
    "for each in wktValue:\n",
    "    tempMinLong = float(each[0])\n",
    "    tempMinLat = float(each[1])\n",
    "    tempMaxLong = float(each[0])\n",
    "    tempMaxLat = float(each[1])\n",
    "    for i in range(0, len(each), 2):\n",
    "        if float(each[i]) < tempMinLong:\n",
    "            tempMinLong = float(each[i])\n",
    "        if float(each[i]) > tempMaxLong:\n",
    "            tempMaxLong = float(each[i])\n",
    "    for i in range(1,len(each), 2):\n",
    "        if float(each[i]) < tempMinLat:\n",
    "            tempMinLat = float(each[i])\n",
    "        if float(each[i]) > tempMaxLat:\n",
    "            tempMaxLat = float(each[i])\n",
    "\n",
    "    \n",
    "    sw = float(tempMinLong), float(tempMinLat)\n",
    "    ne = float(tempMaxLong), float(tempMaxLat)\n",
    "\n",
    "    bounds = [*sw, *ne]\n",
    "\n",
    "    pixWidth, pixHeight = degrees_per_pixel(bounds, imageWidths[counter], imageHeights[counter])\n",
    "\n",
    "    topLeftX = tempMaxLat\n",
    "    topLeftY = tempMinLong\n",
    "\n",
    "    pixw = f\"{pixWidth:.12f}\"\n",
    "    pixh = f\"{pixHeight:.12f}\"\n",
    "\n",
    "    f = open(\"Image\"+str(counter)+\".jgw\", \"w\")\n",
    "\n",
    "    f.write(pixw+\"\\n\")\n",
    "    f.write(\"0\\n\")\n",
    "    f.write(\"0\\n\")\n",
    "    f.write(\"-\"+pixh+\"\\n\")\n",
    "    f.write(str(topLeftY)+\"\\n\")\n",
    "    f.write(str(topLeftX)+\"\\n\")\n",
    "\n",
    "    f.close()\n",
    "\n",
    "    counter += 1"
   ]
  }
 ],
 "metadata": {
  "interpreter": {
   "hash": "3721370f98a9ea8fed14b4f4f74ef9a88c04ad9fd9586e0ef1b95dc1012931d8"
  },
  "kernelspec": {
   "display_name": "Python 3 (ipykernel)",
   "language": "python",
   "name": "python3"
  },
  "language_info": {
   "codemirror_mode": {
    "name": "ipython",
    "version": 3
   },
   "file_extension": ".py",
   "mimetype": "text/x-python",
   "name": "python",
   "nbconvert_exporter": "python",
   "pygments_lexer": "ipython3",
   "version": "3.9.7"
  }
 },
 "nbformat": 4,
 "nbformat_minor": 2
}
