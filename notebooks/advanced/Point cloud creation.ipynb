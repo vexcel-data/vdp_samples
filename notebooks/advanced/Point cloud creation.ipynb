{
 "cells": [
  {
   "cell_type": "markdown",
   "id": "6bef7f5d",
   "metadata": {},
   "source": [
    "# Introduction\n",
    "\n",
    "This notebook has 2 parts:\n",
    "- Sourcing the DSM from the Vexcel API\n",
    "- Converting that DSM into a LAS point cloud\n",
    "\n",
    "It uses common data science and GIS python libraries:\n",
    "- geopandas\n",
    "- rasterio\n",
    "- numpy\n",
    "- PIL (Python Image Library)\n",
    "\n",
    "It also uses laspy to handle the conversion of the numpy point cloud to LAS format.\n",
    "\n",
    "## 1. Sourcing DSM data\n",
    "\n",
    "There is only one input required, the coordinates of the bounding box of the polygon of interest. You could of course read in your own shapefile or load a WKT, but for simplicity we'll just use the bounding box here."
   ]
  },
  {
   "cell_type": "code",
   "execution_count": 1,
   "id": "e2b34827",
   "metadata": {},
   "outputs": [
    {
     "name": "stderr",
     "output_type": "stream",
     "text": [
      "/Users/patrick/.pyenv/versions/3.7.3/lib/python3.7/site-packages/pandas/compat/__init__.py:84: UserWarning: Could not import the lzma module. Your installed Python is incomplete. Attempting to use lzma compression will result in a RuntimeError.\n",
      "  warnings.warn(msg)\n",
      "/Users/patrick/.pyenv/versions/3.7.3/lib/python3.7/site-packages/pandas/compat/__init__.py:84: UserWarning: Could not import the lzma module. Your installed Python is incomplete. Attempting to use lzma compression will result in a RuntimeError.\n",
      "  warnings.warn(msg)\n"
     ]
    },
    {
     "data": {
      "text/html": [
       "<div style=\"width:100%;\"><div style=\"position:relative;width:100%;height:0;padding-bottom:60%;\"><span style=\"color:#565656\">Make this Notebook Trusted to load map: File -> Trust Notebook</span><iframe src=\"about:blank\" style=\"position:absolute;width:100%;height:100%;left:0;top:0;border:none !important;\" data-html=%3C%21DOCTYPE%20html%3E%0A%3Chead%3E%20%20%20%20%0A%20%20%20%20%3Cmeta%20http-equiv%3D%22content-type%22%20content%3D%22text/html%3B%20charset%3DUTF-8%22%20/%3E%0A%20%20%20%20%0A%20%20%20%20%20%20%20%20%3Cscript%3E%0A%20%20%20%20%20%20%20%20%20%20%20%20L_NO_TOUCH%20%3D%20false%3B%0A%20%20%20%20%20%20%20%20%20%20%20%20L_DISABLE_3D%20%3D%20false%3B%0A%20%20%20%20%20%20%20%20%3C/script%3E%0A%20%20%20%20%0A%20%20%20%20%3Cstyle%3Ehtml%2C%20body%20%7Bwidth%3A%20100%25%3Bheight%3A%20100%25%3Bmargin%3A%200%3Bpadding%3A%200%3B%7D%3C/style%3E%0A%20%20%20%20%3Cstyle%3E%23map%20%7Bposition%3Aabsolute%3Btop%3A0%3Bbottom%3A0%3Bright%3A0%3Bleft%3A0%3B%7D%3C/style%3E%0A%20%20%20%20%3Cscript%20src%3D%22https%3A//cdn.jsdelivr.net/npm/leaflet%401.6.0/dist/leaflet.js%22%3E%3C/script%3E%0A%20%20%20%20%3Cscript%20src%3D%22https%3A//code.jquery.com/jquery-1.12.4.min.js%22%3E%3C/script%3E%0A%20%20%20%20%3Cscript%20src%3D%22https%3A//maxcdn.bootstrapcdn.com/bootstrap/3.2.0/js/bootstrap.min.js%22%3E%3C/script%3E%0A%20%20%20%20%3Cscript%20src%3D%22https%3A//cdnjs.cloudflare.com/ajax/libs/Leaflet.awesome-markers/2.0.2/leaflet.awesome-markers.js%22%3E%3C/script%3E%0A%20%20%20%20%3Clink%20rel%3D%22stylesheet%22%20href%3D%22https%3A//cdn.jsdelivr.net/npm/leaflet%401.6.0/dist/leaflet.css%22/%3E%0A%20%20%20%20%3Clink%20rel%3D%22stylesheet%22%20href%3D%22https%3A//maxcdn.bootstrapcdn.com/bootstrap/3.2.0/css/bootstrap.min.css%22/%3E%0A%20%20%20%20%3Clink%20rel%3D%22stylesheet%22%20href%3D%22https%3A//maxcdn.bootstrapcdn.com/bootstrap/3.2.0/css/bootstrap-theme.min.css%22/%3E%0A%20%20%20%20%3Clink%20rel%3D%22stylesheet%22%20href%3D%22https%3A//maxcdn.bootstrapcdn.com/font-awesome/4.6.3/css/font-awesome.min.css%22/%3E%0A%20%20%20%20%3Clink%20rel%3D%22stylesheet%22%20href%3D%22https%3A//cdnjs.cloudflare.com/ajax/libs/Leaflet.awesome-markers/2.0.2/leaflet.awesome-markers.css%22/%3E%0A%20%20%20%20%3Clink%20rel%3D%22stylesheet%22%20href%3D%22https%3A//cdn.jsdelivr.net/gh/python-visualization/folium/folium/templates/leaflet.awesome.rotate.min.css%22/%3E%0A%20%20%20%20%0A%20%20%20%20%20%20%20%20%20%20%20%20%3Cmeta%20name%3D%22viewport%22%20content%3D%22width%3Ddevice-width%2C%0A%20%20%20%20%20%20%20%20%20%20%20%20%20%20%20%20initial-scale%3D1.0%2C%20maximum-scale%3D1.0%2C%20user-scalable%3Dno%22%20/%3E%0A%20%20%20%20%20%20%20%20%20%20%20%20%3Cstyle%3E%0A%20%20%20%20%20%20%20%20%20%20%20%20%20%20%20%20%23map_b6534a90953d48ddb6242b3fd9cde273%20%7B%0A%20%20%20%20%20%20%20%20%20%20%20%20%20%20%20%20%20%20%20%20position%3A%20relative%3B%0A%20%20%20%20%20%20%20%20%20%20%20%20%20%20%20%20%20%20%20%20width%3A%20100.0%25%3B%0A%20%20%20%20%20%20%20%20%20%20%20%20%20%20%20%20%20%20%20%20height%3A%20100.0%25%3B%0A%20%20%20%20%20%20%20%20%20%20%20%20%20%20%20%20%20%20%20%20left%3A%200.0%25%3B%0A%20%20%20%20%20%20%20%20%20%20%20%20%20%20%20%20%20%20%20%20top%3A%200.0%25%3B%0A%20%20%20%20%20%20%20%20%20%20%20%20%20%20%20%20%7D%0A%20%20%20%20%20%20%20%20%20%20%20%20%3C/style%3E%0A%20%20%20%20%20%20%20%20%0A%3C/head%3E%0A%3Cbody%3E%20%20%20%20%0A%20%20%20%20%0A%20%20%20%20%20%20%20%20%20%20%20%20%3Cdiv%20class%3D%22folium-map%22%20id%3D%22map_b6534a90953d48ddb6242b3fd9cde273%22%20%3E%3C/div%3E%0A%20%20%20%20%20%20%20%20%0A%3C/body%3E%0A%3Cscript%3E%20%20%20%20%0A%20%20%20%20%0A%20%20%20%20%20%20%20%20%20%20%20%20var%20map_b6534a90953d48ddb6242b3fd9cde273%20%3D%20L.map%28%0A%20%20%20%20%20%20%20%20%20%20%20%20%20%20%20%20%22map_b6534a90953d48ddb6242b3fd9cde273%22%2C%0A%20%20%20%20%20%20%20%20%20%20%20%20%20%20%20%20%7B%0A%20%20%20%20%20%20%20%20%20%20%20%20%20%20%20%20%20%20%20%20center%3A%20%5B34.1465%2C%20-117.98310000000001%5D%2C%0A%20%20%20%20%20%20%20%20%20%20%20%20%20%20%20%20%20%20%20%20crs%3A%20L.CRS.EPSG3857%2C%0A%20%20%20%20%20%20%20%20%20%20%20%20%20%20%20%20%20%20%20%20zoom%3A%2020%2C%0A%20%20%20%20%20%20%20%20%20%20%20%20%20%20%20%20%20%20%20%20zoomControl%3A%20true%2C%0A%20%20%20%20%20%20%20%20%20%20%20%20%20%20%20%20%20%20%20%20preferCanvas%3A%20false%2C%0A%20%20%20%20%20%20%20%20%20%20%20%20%20%20%20%20%7D%0A%20%20%20%20%20%20%20%20%20%20%20%20%29%3B%0A%0A%20%20%20%20%20%20%20%20%20%20%20%20%0A%0A%20%20%20%20%20%20%20%20%0A%20%20%20%20%0A%20%20%20%20%20%20%20%20%20%20%20%20var%20tile_layer_683682c9c2334064b23b3b144650e78d%20%3D%20L.tileLayer%28%0A%20%20%20%20%20%20%20%20%20%20%20%20%20%20%20%20%22https%3A//cartodb-basemaps-%7Bs%7D.global.ssl.fastly.net/light_all/%7Bz%7D/%7Bx%7D/%7By%7D.png%22%2C%0A%20%20%20%20%20%20%20%20%20%20%20%20%20%20%20%20%7B%22attribution%22%3A%20%22%5Cu0026copy%3B%20%5Cu003ca%20href%3D%5C%22http%3A//www.openstreetmap.org/copyright%5C%22%5Cu003eOpenStreetMap%5Cu003c/a%5Cu003e%20contributors%20%5Cu0026copy%3B%20%5Cu003ca%20href%3D%5C%22http%3A//cartodb.com/attributions%5C%22%5Cu003eCartoDB%5Cu003c/a%5Cu003e%2C%20CartoDB%20%5Cu003ca%20href%20%3D%5C%22http%3A//cartodb.com/attributions%5C%22%5Cu003eattributions%5Cu003c/a%5Cu003e%22%2C%20%22detectRetina%22%3A%20false%2C%20%22maxNativeZoom%22%3A%2018%2C%20%22maxZoom%22%3A%2018%2C%20%22minZoom%22%3A%200%2C%20%22noWrap%22%3A%20false%2C%20%22opacity%22%3A%201%2C%20%22subdomains%22%3A%20%22abc%22%2C%20%22tms%22%3A%20false%7D%0A%20%20%20%20%20%20%20%20%20%20%20%20%29.addTo%28map_b6534a90953d48ddb6242b3fd9cde273%29%3B%0A%20%20%20%20%20%20%20%20%0A%20%20%20%20%0A%0A%20%20%20%20%20%20%20%20function%20geo_json_99f8d89cc5d243a193dc7c814867d876_onEachFeature%28feature%2C%20layer%29%20%7B%0A%20%20%20%20%20%20%20%20%20%20%20%20layer.on%28%7B%0A%20%20%20%20%20%20%20%20%20%20%20%20%7D%29%3B%0A%20%20%20%20%20%20%20%20%7D%3B%0A%20%20%20%20%20%20%20%20var%20geo_json_99f8d89cc5d243a193dc7c814867d876%20%3D%20L.geoJson%28null%2C%20%7B%0A%20%20%20%20%20%20%20%20%20%20%20%20%20%20%20%20onEachFeature%3A%20geo_json_99f8d89cc5d243a193dc7c814867d876_onEachFeature%2C%0A%20%20%20%20%20%20%20%20%20%20%20%20%0A%20%20%20%20%20%20%20%20%7D%29%3B%0A%0A%20%20%20%20%20%20%20%20function%20geo_json_99f8d89cc5d243a193dc7c814867d876_add%20%28data%29%20%7B%0A%20%20%20%20%20%20%20%20%20%20%20%20geo_json_99f8d89cc5d243a193dc7c814867d876%0A%20%20%20%20%20%20%20%20%20%20%20%20%20%20%20%20.addData%28data%29%0A%20%20%20%20%20%20%20%20%20%20%20%20%20%20%20%20.addTo%28map_b6534a90953d48ddb6242b3fd9cde273%29%3B%0A%20%20%20%20%20%20%20%20%7D%0A%20%20%20%20%20%20%20%20%20%20%20%20geo_json_99f8d89cc5d243a193dc7c814867d876_add%28%7B%22coordinates%22%3A%20%5B%5B%5B-117.9827%2C%2034.1462%5D%2C%20%5B-117.9827%2C%2034.1468%5D%2C%20%5B-117.9835%2C%2034.1468%5D%2C%20%5B-117.9835%2C%2034.1462%5D%2C%20%5B-117.9827%2C%2034.1462%5D%5D%5D%2C%20%22type%22%3A%20%22Polygon%22%7D%29%3B%0A%0A%20%20%20%20%20%20%20%20%0A%3C/script%3E onload=\"this.contentDocument.open();this.contentDocument.write(    decodeURIComponent(this.getAttribute('data-html')));this.contentDocument.close();\" allowfullscreen webkitallowfullscreen mozallowfullscreen></iframe></div></div>"
      ],
      "text/plain": [
       "<folium.folium.Map at 0x10b7e93c8>"
      ]
     },
     "execution_count": 1,
     "metadata": {},
     "output_type": "execute_result"
    }
   ],
   "source": [
    "w, s, e, n = -117.9835, 34.1462, -117.9827, 34.1468\n",
    "\n",
    "from shapely.geometry import box as geometry_from_bounding_box\n",
    "import folium\n",
    "\n",
    "aoi_geometry = geometry_from_bounding_box(w, s, e, n)\n",
    "\n",
    "lon, lat = aoi_geometry.centroid.coords[0]\n",
    "m = folium.Map(location=[lat, lon], tiles=\"cartodbpositron\", zoom_start=20)\n",
    "\n",
    "folium.GeoJson(\n",
    "    aoi_geometry,\n",
    ").add_to(m)\n",
    "m"
   ]
  },
  {
   "cell_type": "code",
   "execution_count": 2,
   "id": "1a9aaed0",
   "metadata": {},
   "outputs": [],
   "source": [
    "import json\n",
    "import math\n",
    "import shutil\n",
    "import sys\n",
    "\n",
    "import requests\n",
    "import rasterio\n",
    "import numpy as np\n",
    "import geopandas as gpd\n",
    "\n",
    "from vdp_python_tools.coverage_api_utilities import create_coverage_dataframe\n",
    "from vdp_python_tools.tile_math import num2deg, deg2num, degrees_per_pixel, pixel_to_coord, coord_to_pixel, tiles_in_polygon"
   ]
  },
  {
   "cell_type": "markdown",
   "id": "9aace93c",
   "metadata": {},
   "source": [
    "Requests to our API are EPSG 4326 by default but can be adapted to other CRS if needed."
   ]
  },
  {
   "cell_type": "code",
   "execution_count": 3,
   "id": "b0dd059a",
   "metadata": {},
   "outputs": [],
   "source": [
    "from vdp_python_tools.authentication import login\n",
    "token = login()"
   ]
  },
  {
   "cell_type": "code",
   "execution_count": 4,
   "id": "b0183672",
   "metadata": {},
   "outputs": [],
   "source": [
    "import os\n",
    "os.makedirs(\"./data/tmp\", exist_ok=True)"
   ]
  },
  {
   "cell_type": "code",
   "execution_count": 5,
   "id": "839d29ae",
   "metadata": {},
   "outputs": [
    {
     "data": {
      "text/plain": [
       "[(-117.9827, 34.1462),\n",
       " (-117.9827, 34.1468),\n",
       " (-117.9835, 34.1468),\n",
       " (-117.9835, 34.1462),\n",
       " (-117.9827, 34.1462)]"
      ]
     },
     "execution_count": 5,
     "metadata": {},
     "output_type": "execute_result"
    }
   ],
   "source": [
    "aoi_geometry.exterior.coords[:]"
   ]
  },
  {
   "cell_type": "markdown",
   "id": "e9dda2a2",
   "metadata": {},
   "source": [
    "**IMPORTANT**: zoom is set to 21 which is a very high resolution. For testing in larger areas, you might want to start higher e.g zoom = 16/17 to see how things line up and then run at 21 once you're happy."
   ]
  },
  {
   "cell_type": "code",
   "execution_count": 6,
   "id": "61c65600",
   "metadata": {},
   "outputs": [],
   "source": [
    "#zoom = 16 # ~2.4m GSD\n",
    "zoom = 21 # 0.075m GSD\n",
    "tile_coords = tiles_in_polygon(aoi_geometry, 21, tile_footprint_filepath=f\"./data/tmp/point_cloud_example_tile_prints.shp\")"
   ]
  },
  {
   "cell_type": "code",
   "execution_count": 7,
   "id": "048439f7",
   "metadata": {},
   "outputs": [
    {
     "data": {
      "text/plain": [
       "[(361272, 836713, 21),\n",
       " (361272, 836714, 21),\n",
       " (361272, 836715, 21),\n",
       " (361272, 836716, 21),\n",
       " (361273, 836713, 21),\n",
       " (361273, 836714, 21),\n",
       " (361273, 836715, 21),\n",
       " (361273, 836716, 21),\n",
       " (361274, 836713, 21),\n",
       " (361274, 836714, 21),\n",
       " (361274, 836715, 21),\n",
       " (361274, 836716, 21),\n",
       " (361275, 836713, 21),\n",
       " (361275, 836714, 21),\n",
       " (361275, 836715, 21),\n",
       " (361275, 836716, 21)]"
      ]
     },
     "execution_count": 7,
     "metadata": {},
     "output_type": "execute_result"
    }
   ],
   "source": [
    "tile_coords"
   ]
  },
  {
   "cell_type": "code",
   "execution_count": 8,
   "id": "3b17b745",
   "metadata": {},
   "outputs": [
    {
     "name": "stdout",
     "output_type": "stream",
     "text": [
      "Running 16 requests to download 0.004096Gb of data\n"
     ]
    }
   ],
   "source": [
    "print(f\"Running {len(tile_coords)} requests to download {len(tile_coords)*256e3/1e9}Gb of data\")"
   ]
  },
  {
   "cell_type": "code",
   "execution_count": 9,
   "id": "6ff8a6e4",
   "metadata": {},
   "outputs": [],
   "source": [
    "api = \"GetDSMTile\"\n",
    "\n",
    "import os\n",
    "os.makedirs(f\"./data/tmp/point_cloud_testing\", exist_ok=True)\n",
    "\n",
    "for x, y, zoom in tile_coords:\n",
    "    url = f\"https://api.vexcelgroup.com/images/{api}/{zoom}/{x}/{y}?token={token}\"# + \"?\" + \"&\".join([f\"{key}={value}\" for key, value in parameters.items()])\n",
    "    response = requests.get(url, stream = True)\n",
    "    if response.reason != \"OK\":\n",
    "        raise Exception(f\"API failed to get tile from api {api} at x={x} y={y} zoom={zoom} see url below \\n {url}\")\n",
    "    filepath = f\"./data/tmp/point_cloud_testing/dsm_img_{zoom}_{x}_{y}.tif\"\n",
    "    with open(filepath, 'wb') as out_file:\n",
    "        shutil.copyfileobj(response.raw, out_file)\n"
   ]
  },
  {
   "cell_type": "code",
   "execution_count": 10,
   "id": "676ea8eb",
   "metadata": {},
   "outputs": [],
   "source": [
    "import os\n",
    "folder_of_rasters = f\"./data/tmp/point_cloud_testing\"\n",
    "rasters_to_merge = [f\"./data/tmp/point_cloud_testing/{filename}\" for filename in os.listdir(folder_of_rasters) if filename.endswith('.tif')]\n"
   ]
  },
  {
   "cell_type": "code",
   "execution_count": 11,
   "id": "3893ed50",
   "metadata": {},
   "outputs": [],
   "source": [
    "rasters_to_merge = [f for f in rasters_to_merge if f\"dsm_img_{zoom}_\" in f] # because maybe you run 16 and then 20 - don't want to merge those"
   ]
  },
  {
   "cell_type": "code",
   "execution_count": 12,
   "id": "064a5efd",
   "metadata": {},
   "outputs": [],
   "source": [
    "import rasterio\n",
    "\n",
    "src_files_to_mosaic = []\n",
    "for filepath in rasters_to_merge:\n",
    "    src = rasterio.open(filepath)\n",
    "    src_files_to_mosaic.append(src)"
   ]
  },
  {
   "cell_type": "code",
   "execution_count": 13,
   "id": "4d9bfba1",
   "metadata": {},
   "outputs": [],
   "source": [
    "from rasterio.merge import merge\n",
    "\n",
    "\n",
    "mosaic, out_trans = merge(src_files_to_mosaic)"
   ]
  },
  {
   "cell_type": "code",
   "execution_count": 14,
   "id": "952ae264",
   "metadata": {},
   "outputs": [
    {
     "data": {
      "text/plain": [
       "'EPSG:3857'"
      ]
     },
     "execution_count": 14,
     "metadata": {},
     "output_type": "execute_result"
    }
   ],
   "source": [
    "from pyproj import CRS\n",
    "crs = CRS.from_epsg(3857)\n",
    "crs.to_string()"
   ]
  },
  {
   "cell_type": "code",
   "execution_count": 15,
   "id": "0d155119",
   "metadata": {},
   "outputs": [
    {
     "data": {
      "text/plain": [
       "'EPSG:3857'"
      ]
     },
     "execution_count": 15,
     "metadata": {},
     "output_type": "execute_result"
    }
   ],
   "source": [
    "src.read_crs().to_string()"
   ]
  },
  {
   "cell_type": "code",
   "execution_count": 16,
   "id": "f9dbcf59",
   "metadata": {},
   "outputs": [],
   "source": [
    "out_meta = src.meta.copy()\n",
    "\n",
    "# Update the metadata\n",
    "out_meta.update({\"driver\": \"GTiff\",\n",
    "  \"height\": mosaic.shape[1],\n",
    "  \"width\": mosaic.shape[2],\n",
    "  \"transform\": out_trans,\n",
    "  \"crs\": src.read_crs().to_string(), # Insert own CRS here\n",
    "})"
   ]
  },
  {
   "cell_type": "code",
   "execution_count": 17,
   "id": "8b12e160",
   "metadata": {},
   "outputs": [],
   "source": [
    "from rasterio.plot import show\n",
    "\n",
    "filepath_mosaic = \"./data/tmp/point_cloud_testing_mosaic.tif\"\n",
    "\n",
    "with rasterio.open(filepath_mosaic, \"w\", **out_meta) as dest:\n",
    "    dest.write(mosaic)"
   ]
  },
  {
   "cell_type": "code",
   "execution_count": 18,
   "id": "a6b55c65",
   "metadata": {},
   "outputs": [],
   "source": [
    "from rasterio.transform import array_bounds\n",
    "\n",
    "raster_array, raster_metadata = mosaic, out_meta\n",
    "\n",
    "bounds = array_bounds(raster_metadata['height'], raster_metadata['width'], raster_metadata['transform'])"
   ]
  },
  {
   "cell_type": "code",
   "execution_count": 19,
   "id": "85a4fae2",
   "metadata": {},
   "outputs": [],
   "source": [
    "elevation_array = raster_array[0, :, :]\n",
    "elevation_array = np.rot90(np.array(elevation_array), k=3)\n",
    "pixels_wide, pixels_high = elevation_array.shape\n",
    "\n",
    "deg_per_pixel_wide, deg_per_pixel_high = degrees_per_pixel(bounds, pixels_wide, pixels_high)\n",
    "\n",
    "points_3d = []\n",
    "for p_x in range(pixels_wide):\n",
    "    for p_y in range(pixels_high):\n",
    "        x, y = pixel_to_coord(p_x, p_y, bounds, deg_per_pixel_wide, deg_per_pixel_high)\n",
    "        z = elevation_array[p_x, p_y]\n",
    "        points_3d.append([x, y, z])"
   ]
  },
  {
   "cell_type": "code",
   "execution_count": 20,
   "id": "da6b72fc",
   "metadata": {},
   "outputs": [
    {
     "ename": "ImportError",
     "evalue": "dlopen(/Users/patrick/.pyenv/versions/3.7.3/lib/python3.7/site-packages/pdal/libpdalpython.cpython-37m-darwin.so, 2): Library not loaded: @rpath/libpdalcpp.13.dylib\n  Referenced from: /Users/patrick/.pyenv/versions/3.7.3/lib/python3.7/site-packages/pdal/libpdalpython.cpython-37m-darwin.so\n  Reason: image not found",
     "output_type": "error",
     "traceback": [
      "\u001b[0;31m---------------------------------------------------------------------------\u001b[0m",
      "\u001b[0;31mImportError\u001b[0m                               Traceback (most recent call last)",
      "\u001b[0;32m/var/folders/fr/t5wq_ry96xqgnh_10867_pbh0000gn/T/ipykernel_29709/2610194944.py\u001b[0m in \u001b[0;36m<module>\u001b[0;34m\u001b[0m\n\u001b[1;32m      1\u001b[0m \u001b[0;32mimport\u001b[0m \u001b[0mlaspy\u001b[0m\u001b[0;34m\u001b[0m\u001b[0;34m\u001b[0m\u001b[0m\n\u001b[0;32m----> 2\u001b[0;31m \u001b[0;32mimport\u001b[0m \u001b[0mpdal\u001b[0m\u001b[0;34m\u001b[0m\u001b[0;34m\u001b[0m\u001b[0m\n\u001b[0m\u001b[1;32m      3\u001b[0m \u001b[0;34m\u001b[0m\u001b[0m\n\u001b[1;32m      4\u001b[0m \u001b[0;32mdef\u001b[0m \u001b[0mwrite_data\u001b[0m\u001b[0;34m(\u001b[0m\u001b[0mxyz\u001b[0m\u001b[0;34m,\u001b[0m \u001b[0mcloud_name\u001b[0m\u001b[0;34m,\u001b[0m \u001b[0mzoom\u001b[0m\u001b[0;34m)\u001b[0m\u001b[0;34m:\u001b[0m\u001b[0;34m\u001b[0m\u001b[0;34m\u001b[0m\u001b[0m\n\u001b[1;32m      5\u001b[0m     \u001b[0;31m# 1. Create a new header\u001b[0m\u001b[0;34m\u001b[0m\u001b[0;34m\u001b[0m\u001b[0;34m\u001b[0m\u001b[0m\n",
      "\u001b[0;32m~/.pyenv/versions/3.7.3/lib/python3.7/site-packages/pdal/__init__.py\u001b[0m in \u001b[0;36m<module>\u001b[0;34m\u001b[0m\n\u001b[1;32m      1\u001b[0m \u001b[0m__version__\u001b[0m\u001b[0;34m=\u001b[0m\u001b[0;34m'2.4.2'\u001b[0m\u001b[0;34m\u001b[0m\u001b[0;34m\u001b[0m\u001b[0m\n\u001b[1;32m      2\u001b[0m \u001b[0;34m\u001b[0m\u001b[0m\n\u001b[0;32m----> 3\u001b[0;31m \u001b[0;32mfrom\u001b[0m \u001b[0;34m.\u001b[0m\u001b[0mpipeline\u001b[0m \u001b[0;32mimport\u001b[0m \u001b[0mPipeline\u001b[0m\u001b[0;34m\u001b[0m\u001b[0;34m\u001b[0m\u001b[0m\n\u001b[0m\u001b[1;32m      4\u001b[0m \u001b[0;32mfrom\u001b[0m \u001b[0;34m.\u001b[0m\u001b[0marray\u001b[0m \u001b[0;32mimport\u001b[0m \u001b[0mArray\u001b[0m\u001b[0;34m\u001b[0m\u001b[0;34m\u001b[0m\u001b[0m\n\u001b[1;32m      5\u001b[0m \u001b[0;32mfrom\u001b[0m \u001b[0;34m.\u001b[0m\u001b[0mdimension\u001b[0m \u001b[0;32mimport\u001b[0m \u001b[0mdimensions\u001b[0m\u001b[0;34m\u001b[0m\u001b[0;34m\u001b[0m\u001b[0m\n",
      "\u001b[0;32m~/.pyenv/versions/3.7.3/lib/python3.7/site-packages/pdal/pipeline.py\u001b[0m in \u001b[0;36m<module>\u001b[0;34m\u001b[0m\n\u001b[1;32m      1\u001b[0m \u001b[0;34m\u001b[0m\u001b[0m\n\u001b[0;32m----> 2\u001b[0;31m \u001b[0;32mfrom\u001b[0m \u001b[0mpdal\u001b[0m \u001b[0;32mimport\u001b[0m \u001b[0mlibpdalpython\u001b[0m\u001b[0;34m\u001b[0m\u001b[0;34m\u001b[0m\u001b[0m\n\u001b[0m\u001b[1;32m      3\u001b[0m \u001b[0;32mimport\u001b[0m \u001b[0mnumpy\u001b[0m \u001b[0;32mas\u001b[0m \u001b[0mnp\u001b[0m\u001b[0;34m\u001b[0m\u001b[0;34m\u001b[0m\u001b[0m\n\u001b[1;32m      4\u001b[0m \u001b[0;34m\u001b[0m\u001b[0m\n\u001b[1;32m      5\u001b[0m \u001b[0;32mclass\u001b[0m \u001b[0mPipeline\u001b[0m\u001b[0;34m(\u001b[0m\u001b[0mobject\u001b[0m\u001b[0;34m)\u001b[0m\u001b[0;34m:\u001b[0m\u001b[0;34m\u001b[0m\u001b[0;34m\u001b[0m\u001b[0m\n",
      "\u001b[0;31mImportError\u001b[0m: dlopen(/Users/patrick/.pyenv/versions/3.7.3/lib/python3.7/site-packages/pdal/libpdalpython.cpython-37m-darwin.so, 2): Library not loaded: @rpath/libpdalcpp.13.dylib\n  Referenced from: /Users/patrick/.pyenv/versions/3.7.3/lib/python3.7/site-packages/pdal/libpdalpython.cpython-37m-darwin.so\n  Reason: image not found"
     ]
    }
   ],
   "source": [
    "import laspy \n",
    "import pdal\n",
    "\n",
    "def write_data(xyz, cloud_name, zoom):\n",
    "    # 1. Create a new header\n",
    "    header = laspy.LasHeader(point_format=0, version=\"1.2\")\n",
    "    #header.add_extra_dim(laspy.ExtraBytesParams(name=\"random\", type=np.int32))\n",
    "    #header.scales = np.array([0.1, 0.1, 0.1])\n",
    "\n",
    "    header.offset = [0, 0, 0] # could need to make this ground level from DTM\n",
    "    header.scales = np.array([1, 1, 0.01])\n",
    "\n",
    "    # 2. Create a Las\n",
    "    las = laspy.LasData(header)\n",
    "\n",
    "    las.x = xyz[:, 0]\n",
    "    las.y = xyz[:, 1]\n",
    "    las.z = xyz[:, 2]\n",
    "    #las.random = np.random.randint(-1503, 6546, len(las.points), np.int32)\n",
    "\n",
    "    las.write(f\"./data/tmp/point_cloud_{cloud_name}.las\")\n",
    "    \n",
    "    pipeline_config = [\n",
    "        {\n",
    "            \"filename\": f\"./data/tmp/point_cloud_{cloud_name}.las\",\n",
    "            \"spatialreference\":\"EPSG:3857+3855\"\n",
    "        },\n",
    "        {\n",
    "            \"type\":\"filters.reprojection\",\n",
    "            \"in_srs\":\"EPSG:3857+3855\",\n",
    "            \"out_srs\":\"EPSG:3857+3855\"\n",
    "        },\n",
    "        {\n",
    "            \"filename\": f\"./data/tmp/point_cloud_{cloud_name}.las\"\n",
    "        }\n",
    "    ]\n",
    "\n",
    "\n",
    "    pipeline = pdal.Pipeline(json.dumps(pipeline_config))\n",
    "    pipeline.execute()"
   ]
  },
  {
   "cell_type": "code",
   "execution_count": null,
   "id": "b7bf6ce8",
   "metadata": {},
   "outputs": [],
   "source": [
    "write_data(np.array(points_3d), boundary_file_name, zoom)"
   ]
  },
  {
   "cell_type": "code",
   "execution_count": 21,
   "id": "c20475a0",
   "metadata": {},
   "outputs": [
    {
     "name": "stdout",
     "output_type": "stream",
     "text": [
      "Python 3.7.3\r\n"
     ]
    }
   ],
   "source": [
    "!python --version"
   ]
  },
  {
   "cell_type": "code",
   "execution_count": 26,
   "id": "4c6387b2",
   "metadata": {},
   "outputs": [
    {
     "name": "stdout",
     "output_type": "stream",
     "text": [
      "Requirement already satisfied: PDAL in /Users/patrick/.pyenv/versions/3.7.3/lib/python3.7/site-packages (2.4.2)\n",
      "\u001b[33mWARNING: You are using pip version 19.2.3, however version 21.3.1 is available.\n",
      "You should consider upgrading via the 'pip install --upgrade pip' command.\u001b[0m\n"
     ]
    }
   ],
   "source": [
    "!pip install PDAL"
   ]
  },
  {
   "cell_type": "code",
   "execution_count": 25,
   "id": "0c53f9dd",
   "metadata": {},
   "outputs": [
    {
     "name": "stdout",
     "output_type": "stream",
     "text": [
      "affine==2.3.0\r\n",
      "anyio==3.3.4\r\n",
      "appdirs==1.4.4\r\n",
      "appnope==0.1.2\r\n",
      "argcomplete==1.12.3\r\n",
      "argon2-cffi==21.1.0\r\n",
      "astroid==2.4.2\r\n",
      "attrs==19.3.0\r\n",
      "Babel==2.9.1\r\n",
      "backcall==0.2.0\r\n",
      "black==19.10b0\r\n",
      "bleach==4.1.0\r\n",
      "boto3==1.9.179\r\n",
      "botocore==1.12.244\r\n",
      "bqplot==0.12.31\r\n",
      "branca==0.4.2\r\n",
      "certifi==2021.10.8\r\n",
      "cffi==1.15.0\r\n",
      "charset-normalizer==2.0.7\r\n",
      "click==8.0.3\r\n",
      "click-plugins==1.1.1\r\n",
      "cligj==0.7.2\r\n",
      "colour==0.1.5\r\n",
      "cycler==0.11.0\r\n",
      "debugpy==1.5.1\r\n",
      "decorator==4.4.0\r\n",
      "defusedxml==0.7.1\r\n",
      "docutils==0.15.2\r\n",
      "entrypoints==0.3\r\n",
      "Fiona==1.8.20\r\n",
      "Flask==2.0.2\r\n",
      "Flask-Cors==3.0.10\r\n",
      "folium==0.12.1\r\n",
      "GDAL==3.4.0\r\n",
      "geojson==2.5.0\r\n",
      "geopandas==0.10.2\r\n",
      "googledrivedownloader==0.4\r\n",
      "greenlet==1.1.2\r\n",
      "gunicorn==20.0.4\r\n",
      "here-map-widget-for-jupyter==1.1.3\r\n",
      "idna==3.3\r\n",
      "imageio==2.13.1\r\n",
      "importlib-metadata==4.8.1\r\n",
      "importlib-resources==5.4.0\r\n",
      "ipyevents==0.9.0\r\n",
      "ipyfilechooser==0.6.0\r\n",
      "ipykernel==6.5.0\r\n",
      "ipyleaflet==0.14.0\r\n",
      "ipython==7.29.0\r\n",
      "ipython-genutils==0.2.0\r\n",
      "ipytree==0.2.1\r\n",
      "ipywidgets==7.6.5\r\n",
      "isort==4.3.21\r\n",
      "itsdangerous==2.0.1\r\n",
      "jedi==0.18.0\r\n",
      "Jinja2==3.0.2\r\n",
      "jmespath==0.9.4\r\n",
      "joblib==1.1.0\r\n",
      "json5==0.9.6\r\n",
      "jsonschema==4.2.1\r\n",
      "jupyter==1.0.0\r\n",
      "jupyter-client==7.0.6\r\n",
      "jupyter-console==6.4.0\r\n",
      "jupyter-core==4.9.1\r\n",
      "jupyter-server==1.11.2\r\n",
      "jupyterlab==3.2.2\r\n",
      "jupyterlab-pygments==0.1.2\r\n",
      "jupyterlab-server==2.8.2\r\n",
      "jupyterlab-widgets==1.0.2\r\n",
      "kiwisolver==1.3.2\r\n",
      "laspy==2.0.3\r\n",
      "lazy-object-proxy==1.4.3\r\n",
      "leafmap==0.5.4\r\n",
      "MarkupSafe==2.0.1\r\n",
      "matplotlib==3.4.3\r\n",
      "matplotlib-inline==0.1.3\r\n",
      "mccabe==0.6.1\r\n",
      "mistune==0.8.4\r\n",
      "mss==6.1.0\r\n",
      "munch==2.5.0\r\n",
      "nbclassic==0.3.4\r\n",
      "nbclient==0.5.4\r\n",
      "nbconvert==6.2.0\r\n",
      "nbformat==5.1.3\r\n",
      "nest-asyncio==1.5.1\r\n",
      "networkx==2.6.3\r\n",
      "notebook==6.4.5\r\n",
      "numpy==1.21.4\r\n",
      "orcarun==1.0.0\r\n",
      "OWSLib==0.25.0\r\n",
      "packaging==21.2\r\n",
      "pandas==0.25.1\r\n",
      "pandocfilters==1.5.0\r\n",
      "parso==0.8.2\r\n",
      "pathspec==0.8.0\r\n",
      "pbr==5.4.3\r\n",
      "PDAL==2.4.2\r\n",
      "pexpect==4.8.0\r\n",
      "pickleshare==0.7.5\r\n",
      "Pillow==8.4.0\r\n",
      "prometheus-client==0.12.0\r\n",
      "prompt-toolkit==3.0.22\r\n",
      "psycopg2==2.9.1\r\n",
      "ptyprocess==0.7.0\r\n",
      "pycparser==2.20\r\n",
      "PyCRS==1.0.2\r\n",
      "Pygments==2.10.0\r\n",
      "pylint==2.5.3\r\n",
      "pyparsing==2.4.7\r\n",
      "pyproj==3.2.1\r\n",
      "pyrsistent==0.18.0\r\n",
      "pyshp==2.1.3\r\n",
      "python-box==5.4.1\r\n",
      "python-dateutil==2.8.0\r\n",
      "pytz==2019.3\r\n",
      "PyWavelets==1.2.0\r\n",
      "PyYAML==6.0\r\n",
      "pyzmq==22.3.0\r\n",
      "qtconsole==5.1.1\r\n",
      "QtPy==1.11.2\r\n",
      "rasterio==1.2.10\r\n",
      "regex==2020.6.8\r\n",
      "requests==2.26.0\r\n",
      "s3transfer==0.2.1\r\n",
      "scikit-image==0.19.0\r\n",
      "scikit-learn==1.0.1\r\n",
      "scipy==1.7.2\r\n",
      "Send2Trash==1.8.0\r\n",
      "Shapely==1.8.0\r\n",
      "six==1.12.0\r\n",
      "sniffio==1.2.0\r\n",
      "snuggs==1.4.7\r\n",
      "SQLAlchemy==1.4.26\r\n",
      "stevedore==1.31.0\r\n",
      "stringcase==1.2.0\r\n",
      "terminado==0.12.1\r\n",
      "testpath==0.5.0\r\n",
      "threadpoolctl==3.0.0\r\n",
      "tifffile==2021.11.2\r\n",
      "toml==0.10.1\r\n",
      "tornado==6.1\r\n",
      "traitlets==5.1.1\r\n",
      "traittypes==0.2.1\r\n",
      "typed-ast==1.4.1\r\n",
      "typing-extensions==3.10.0.2\r\n",
      "urllib3==1.25.6\r\n",
      "vdp-python-tools==0.0.0\r\n",
      "virtualenv==16.7.5\r\n",
      "virtualenv-clone==0.5.3\r\n",
      "virtualenvwrapper==4.8.4\r\n",
      "wcwidth==0.2.5\r\n",
      "webencodings==0.5.1\r\n",
      "websocket-client==1.2.1\r\n",
      "Werkzeug==2.0.2\r\n",
      "whitebox==2.0.3\r\n",
      "whiteboxgui==0.6.0\r\n",
      "widgetsnbextension==3.5.2\r\n",
      "wrapt==1.12.1\r\n",
      "xyzservices==2021.10.0\r\n",
      "zipp==3.6.0\r\n"
     ]
    }
   ],
   "source": [
    "!pip freeze"
   ]
  },
  {
   "cell_type": "code",
   "execution_count": null,
   "id": "fe8137b6",
   "metadata": {},
   "outputs": [],
   "source": []
  }
 ],
 "metadata": {
  "kernelspec": {
   "display_name": "Python 3 (ipykernel)",
   "language": "python",
   "name": "python3"
  },
  "language_info": {
   "codemirror_mode": {
    "name": "ipython",
    "version": 3
   },
   "file_extension": ".py",
   "mimetype": "text/x-python",
   "name": "python",
   "nbconvert_exporter": "python",
   "pygments_lexer": "ipython3",
   "version": "3.7.3"
  }
 },
 "nbformat": 4,
 "nbformat_minor": 5
}
